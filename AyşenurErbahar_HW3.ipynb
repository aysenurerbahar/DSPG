{
  "nbformat": 4,
  "nbformat_minor": 0,
  "metadata": {
    "colab": {
      "name": "AyşenurErbahar_HW3.ipynb",
      "provenance": []
    },
    "kernelspec": {
      "name": "python3",
      "display_name": "Python 3"
    }
  },
  "cells": [
    {
      "cell_type": "code",
      "metadata": {
        "id": "leJ7FmGiaX1d"
      },
      "source": [
        "l = [[\"a\",\"b\"],[\"a\",\"c\",\"d\"],[\"a\"],[\"b\",\"d\"]]"
      ],
      "execution_count": 24,
      "outputs": []
    },
    {
      "cell_type": "code",
      "metadata": {
        "id": "nKFEHX14bLQ3"
      },
      "source": [
        "def counter(liste):\r\n",
        "  counterDict = {}\r\n",
        "  for element in liste:\r\n",
        "    for value in element:\r\n",
        "      if value in counterDict:\r\n",
        "        counterDict[value] = counterDict[value] + 1\r\n",
        "      else:\r\n",
        "        counterDict[value] = 1\r\n",
        "  \r\n",
        "  return counterDict"
      ],
      "execution_count": 32,
      "outputs": []
    },
    {
      "cell_type": "code",
      "metadata": {
        "colab": {
          "base_uri": "https://localhost:8080/"
        },
        "id": "CqDt-Zq0m9lz",
        "outputId": "f45c7244-40ad-455c-aeae-6b4d38eda7ae"
      },
      "source": [
        "counter(l)\r\n"
      ],
      "execution_count": 33,
      "outputs": [
        {
          "output_type": "execute_result",
          "data": {
            "text/plain": [
              "{'a': 3, 'b': 2, 'c': 1, 'd': 2}"
            ]
          },
          "metadata": {
            "tags": []
          },
          "execution_count": 33
        }
      ]
    }
  ]
}