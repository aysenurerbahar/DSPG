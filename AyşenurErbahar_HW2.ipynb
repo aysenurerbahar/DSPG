{
  "nbformat": 4,
  "nbformat_minor": 0,
  "metadata": {
    "kernelspec": {
      "display_name": "Python 3",
      "language": "python",
      "name": "python3"
    },
    "language_info": {
      "codemirror_mode": {
        "name": "ipython",
        "version": 3
      },
      "file_extension": ".py",
      "mimetype": "text/x-python",
      "name": "python",
      "nbconvert_exporter": "python",
      "pygments_lexer": "ipython3",
      "version": "3.7.6"
    },
    "colab": {
      "name": "AyşenurErbahar_HW2.ipynb",
      "provenance": []
    }
  },
  "cells": [
    {
      "cell_type": "markdown",
      "metadata": {
        "id": "s5jMBfCVtzma"
      },
      "source": [
        "## 1) Power(Iterative):\n",
        "\n",
        "Write a program that calculates n'th power of a given number iteratively"
      ]
    },
    {
      "cell_type": "code",
      "metadata": {
        "id": "vG0q6lDHtzma"
      },
      "source": [
        "def iter_power(x, n): # It sould return x^n, and yes you cannot use x**n for this problem -_-\n",
        "  if (n==0):\n",
        "    return 1\n",
        "  else:\n",
        "    result=1\n",
        "    for i in range(n):\n",
        "      result = result * x\n",
        "    return result\n",
        "print(iter_power(x,n))\n"
      ],
      "execution_count": null,
      "outputs": []
    },
    {
      "cell_type": "markdown",
      "metadata": {
        "id": "4izn4SxYtzma"
      },
      "source": [
        "## 2) Power(Recursive):\n",
        "\n",
        "Write a program that calculates n'th power of a given number recursively"
      ]
    },
    {
      "cell_type": "code",
      "metadata": {
        "id": "kiglWlNwtzma"
      },
      "source": [
        "def recur_power(x, n): \n",
        "    if (n == 0): \n",
        "      return 1\n",
        "    elif (int(n % 2) == 0): \n",
        "      return (iter_power(x, int(n / 2)) * iter_power(x, int(n / 2))) \n",
        "    else: \n",
        "      return (x * iter_power(x, int(n / 2)) * iter_power(x, int(n / 2))) \n",
        "\n",
        "print(iter_power(x, n)) "
      ],
      "execution_count": null,
      "outputs": []
    },
    {
      "cell_type": "markdown",
      "metadata": {
        "id": "tW1eo9bBtzma"
      },
      "source": [
        "### 3) Key with the maximum number of values:\n",
        "\n",
        "Given dictionary d, return a key that has a maximum value associated with it\n",
        "\n",
        "for example if d = {\"a\":[1,2,3], \"b\":[45,43,21,23], \"c\":[3,4,5]}\n",
        "\n",
        "it should return \"b\""
      ]
    },
    {
      "cell_type": "code",
      "metadata": {
        "id": "cpOUZPa6-3cr"
      },
      "source": [
        "d = {\"a\":[1,2,3], \"b\":[45,43,21,23], \"c\":[3,4,5]}"
      ],
      "execution_count": 51,
      "outputs": []
    },
    {
      "cell_type": "code",
      "metadata": {
        "id": "MoEeOqKDtzma"
      },
      "source": [
        "def max_key(d):\n",
        "  max = []\n",
        "  for i in d:\n",
        "    if len(d[i]) > len(max):\n",
        "      max = d[i]\n",
        "      value = i\n",
        "  return value\n"
      ],
      "execution_count": 52,
      "outputs": []
    },
    {
      "cell_type": "code",
      "metadata": {
        "colab": {
          "base_uri": "https://localhost:8080/"
        },
        "id": "QEEE9lSlwItK",
        "outputId": "b6dcaf1c-fac8-4169-eebe-01297ef83676"
      },
      "source": [
        "print(max_key(d))"
      ],
      "execution_count": 53,
      "outputs": [
        {
          "output_type": "stream",
          "text": [
            "b\n"
          ],
          "name": "stdout"
        }
      ]
    },
    {
      "cell_type": "markdown",
      "metadata": {
        "id": "x98jeWeN1U_3"
      },
      "source": [
        "## 4) Fibonacci Recursive Function\n",
        "\n"
      ]
    },
    {
      "cell_type": "code",
      "metadata": {
        "id": "sB9ygaDz1sX9"
      },
      "source": [
        "def fib(n):\n",
        "  fibDic = {}\n",
        "  for i in range(n):\n",
        "    if i <= 1:\n",
        "      fibDic[i] = i\n",
        "    else:\n",
        "      fibDic[i] = fibDic[i-1] + fibDic[i-2]\n",
        "  return fibDic\n",
        "print(fib(n))"
      ],
      "execution_count": 56,
      "outputs": []
    }
  ]
}